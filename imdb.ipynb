{
 "cells": [
  {
   "cell_type": "code",
   "execution_count": 50,
   "metadata": {},
   "outputs": [],
   "source": [
    "import os\n",
    "from keras.datasets import imdb\n",
    "from keras.preprocessing import sequence, text\n",
    "from keras.layers import Flatten, Dense, Embedding, LSTM\n",
    "from keras.models import Sequential\n",
    "import numpy as np"
   ]
  },
  {
   "cell_type": "code",
   "execution_count": 2,
   "metadata": {},
   "outputs": [],
   "source": [
    "max_features = 10000 #作为特征的单词个数\n",
    "max_len = 100 #100个单词后截断文本\n",
    "training_samples = 2000\n",
    "validation_samples = 10000"
   ]
  },
  {
   "cell_type": "code",
   "execution_count": 3,
   "metadata": {},
   "outputs": [],
   "source": [
    "imdb_dir = './aclImdb/'\n",
    "train_dir = os.path.join(imdb_dir, 'train')\n",
    "glove_dir = './glove.6B/'"
   ]
  },
  {
   "cell_type": "code",
   "execution_count": 4,
   "metadata": {},
   "outputs": [],
   "source": [
    "labels = []\n",
    "texts = []\n",
    "\n",
    "for label_type in ['neg', 'pos']:\n",
    "    dir_name = os.path.join(train_dir, label_type)\n",
    "    for fname in os.listdir(dir_name):\n",
    "        if fname[-4:] == '.txt':\n",
    "            f = open(os.path.join(dir_name, fname))\n",
    "            texts.append(f.read())\n",
    "            f.close()\n",
    "            if label_type == 'neg':\n",
    "                labels.append(0)\n",
    "            else:\n",
    "                labels.append(1)"
   ]
  },
  {
   "cell_type": "code",
   "execution_count": 5,
   "metadata": {},
   "outputs": [
    {
     "name": "stdout",
     "output_type": "stream",
     "text": [
      "Fond 88582 unique tokens.\n"
     ]
    }
   ],
   "source": [
    "tokenizer = text.Tokenizer(num_words=max_features)\n",
    "tokenizer.fit_on_texts(texts)\n",
    "sequences = tokenizer.texts_to_sequences(texts)\n",
    "\n",
    "word_index = tokenizer.word_index\n",
    "print (\"Fond %s unique tokens.\" % len(word_index))"
   ]
  },
  {
   "cell_type": "code",
   "execution_count": 6,
   "metadata": {},
   "outputs": [
    {
     "name": "stdout",
     "output_type": "stream",
     "text": [
      "Shape of data tensor (25000, 100)\n",
      "Shape of labels tensor (25000,)\n"
     ]
    }
   ],
   "source": [
    "data = sequence.pad_sequences(sequences, maxlen=max_len)\n",
    "labels = np.asarray(labels)\n",
    "\n",
    "print ('Shape of data tensor', data.shape)\n",
    "print ('Shape of labels tensor', labels.shape)"
   ]
  },
  {
   "cell_type": "code",
   "execution_count": 7,
   "metadata": {},
   "outputs": [],
   "source": [
    "indices = np.arange(data.shape[0])\n",
    "np.random.shuffle(indices)\n",
    "data = data[indices]\n",
    "labels = labels[indices]"
   ]
  },
  {
   "cell_type": "code",
   "execution_count": 8,
   "metadata": {},
   "outputs": [],
   "source": [
    "x_train = data[:training_samples]\n",
    "y_train = labels[:training_samples]\n",
    "\n",
    "x_val = data[training_samples:training_samples+validation_samples]\n",
    "y_val = labels[training_samples:training_samples+validation_samples]"
   ]
  },
  {
   "cell_type": "code",
   "execution_count": 9,
   "metadata": {},
   "outputs": [
    {
     "name": "stdout",
     "output_type": "stream",
     "text": [
      "Found 400000 word vectors.\n"
     ]
    }
   ],
   "source": [
    "embedding_index = {}\n",
    "f = open(os.path.join(glove_dir, 'glove.6B.100d.txt'))\n",
    "\n",
    "for line in f:\n",
    "    values = line.split()\n",
    "    word = values[0]\n",
    "    coefs = np.asarray(values[1:], dtype='float32')\n",
    "    embedding_index[word] = coefs\n",
    "    \n",
    "f.close()\n",
    "\n",
    "print ('Found %s word vectors.' % len(embedding_index))"
   ]
  },
  {
   "cell_type": "code",
   "execution_count": 11,
   "metadata": {},
   "outputs": [],
   "source": [
    "embedding_dim = 100\n",
    "\n",
    "embedding_matrix = np.zeros((max_features, embedding_dim))\n",
    "for word, i in word_index.items():\n",
    "    if i < max_features:\n",
    "        embedding_vector = embedding_index.get(word)\n",
    "        if embedding_vector is not None:\n",
    "            embedding_matrix[i] = embedding_vector"
   ]
  },
  {
   "cell_type": "code",
   "execution_count": 51,
   "metadata": {},
   "outputs": [
    {
     "name": "stdout",
     "output_type": "stream",
     "text": [
      "_________________________________________________________________\n",
      "Layer (type)                 Output Shape              Param #   \n",
      "=================================================================\n",
      "embedding_18 (Embedding)     (None, None, 100)         1000000   \n",
      "_________________________________________________________________\n",
      "lstm_1 (LSTM)                (None, 128)               117248    \n",
      "_________________________________________________________________\n",
      "dense_6 (Dense)              (None, 1)                 129       \n",
      "=================================================================\n",
      "Total params: 1,117,377\n",
      "Trainable params: 1,117,377\n",
      "Non-trainable params: 0\n",
      "_________________________________________________________________\n"
     ]
    }
   ],
   "source": [
    "model = Sequential()\n",
    "\n",
    "model.add(Embedding(max_features,100))\n",
    "model.add(LSTM(128))\n",
    "model.add(Dense(1, activation='sigmoid'))\n",
    "model.summary()"
   ]
  },
  {
   "cell_type": "code",
   "execution_count": 52,
   "metadata": {},
   "outputs": [],
   "source": [
    "model.layers[0].set_weights([embedding_matrix])\n",
    "model.layers[0].trainable = False"
   ]
  },
  {
   "cell_type": "code",
   "execution_count": 53,
   "metadata": {},
   "outputs": [
    {
     "name": "stdout",
     "output_type": "stream",
     "text": [
      "Train on 2000 samples, validate on 10000 samples\n",
      "Epoch 1/10\n",
      "2000/2000 [==============================] - 11s 5ms/step - loss: 0.6894 - acc: 0.5480 - val_loss: 0.6565 - val_acc: 0.6438\n",
      "Epoch 2/10\n",
      "2000/2000 [==============================] - 11s 5ms/step - loss: 0.6336 - acc: 0.6425 - val_loss: 1.1492 - val_acc: 0.5047\n",
      "Epoch 3/10\n",
      "2000/2000 [==============================] - 11s 6ms/step - loss: 0.5919 - acc: 0.7010 - val_loss: 0.6940 - val_acc: 0.5979\n",
      "Epoch 4/10\n",
      "2000/2000 [==============================] - 11s 6ms/step - loss: 0.5594 - acc: 0.7305 - val_loss: 0.5301 - val_acc: 0.7510\n",
      "Epoch 5/10\n",
      "2000/2000 [==============================] - 11s 6ms/step - loss: 0.5283 - acc: 0.7425 - val_loss: 0.5043 - val_acc: 0.7549\n",
      "Epoch 6/10\n",
      "2000/2000 [==============================] - 11s 6ms/step - loss: 0.4925 - acc: 0.7680 - val_loss: 0.5482 - val_acc: 0.7245\n",
      "Epoch 7/10\n",
      "2000/2000 [==============================] - 11s 5ms/step - loss: 0.4636 - acc: 0.7810 - val_loss: 0.5350 - val_acc: 0.7489\n",
      "Epoch 8/10\n",
      "2000/2000 [==============================] - 10s 5ms/step - loss: 0.4290 - acc: 0.7970 - val_loss: 0.6060 - val_acc: 0.7067\n",
      "Epoch 9/10\n",
      "2000/2000 [==============================] - 10s 5ms/step - loss: 0.3939 - acc: 0.8220 - val_loss: 0.4827 - val_acc: 0.7692\n",
      "Epoch 10/10\n",
      "2000/2000 [==============================] - 10s 5ms/step - loss: 0.3640 - acc: 0.8320 - val_loss: 0.5584 - val_acc: 0.7178\n"
     ]
    }
   ],
   "source": [
    "model.compile(optimizer='rmsprop', loss = 'binary_crossentropy', metrics=['acc'])\n",
    "history = model.fit(x_train, y_train, epochs=10, batch_size=32, validation_data=(x_val, y_val))"
   ]
  },
  {
   "cell_type": "code",
   "execution_count": 46,
   "metadata": {},
   "outputs": [
    {
     "name": "stdout",
     "output_type": "stream",
     "text": [
      "_________________________________________________________________\n",
      "Layer (type)                 Output Shape              Param #   \n",
      "=================================================================\n",
      "embedding_16 (Embedding)     (None, None, 100)         1000000   \n",
      "_________________________________________________________________\n",
      "lstm_ln_1 (LSTM_LN)          (None, 128)               117248    \n",
      "_________________________________________________________________\n",
      "dense_5 (Dense)              (None, 1)                 129       \n",
      "=================================================================\n",
      "Total params: 1,117,377\n",
      "Trainable params: 1,117,377\n",
      "Non-trainable params: 0\n",
      "_________________________________________________________________\n"
     ]
    }
   ],
   "source": [
    "# https://github.com/cleemesser/keras-layer-norm-work\n",
    "from lstm_ln import LSTM_LN\n",
    "model_ln = Sequential()\n",
    "\n",
    "model_ln.add(Embedding(max_features,100))\n",
    "model_ln.add(LSTM_LN(128))\n",
    "model_ln.add(Dense(1, activation='sigmoid'))\n",
    "model_ln.summary()"
   ]
  },
  {
   "cell_type": "code",
   "execution_count": 47,
   "metadata": {},
   "outputs": [],
   "source": [
    "model_ln.layers[0].set_weights([embedding_matrix])\n",
    "model_ln.layers[0].trainable = False"
   ]
  },
  {
   "cell_type": "code",
   "execution_count": 48,
   "metadata": {},
   "outputs": [
    {
     "name": "stdout",
     "output_type": "stream",
     "text": [
      "Train on 2000 samples, validate on 10000 samples\n",
      "Epoch 1/10\n",
      "2000/2000 [==============================] - 11s 6ms/step - loss: 0.6671 - acc: 0.6050 - val_loss: 0.6142 - val_acc: 0.7142\n",
      "Epoch 2/10\n",
      "2000/2000 [==============================] - 11s 5ms/step - loss: 0.4410 - acc: 0.8215 - val_loss: 0.4974 - val_acc: 0.7505\n",
      "Epoch 3/10\n",
      "2000/2000 [==============================] - 12s 6ms/step - loss: 0.2621 - acc: 0.9075 - val_loss: 0.5205 - val_acc: 0.7903\n",
      "Epoch 4/10\n",
      "2000/2000 [==============================] - 12s 6ms/step - loss: 0.1591 - acc: 0.9530 - val_loss: 0.5572 - val_acc: 0.7895\n",
      "Epoch 5/10\n",
      "2000/2000 [==============================] - 12s 6ms/step - loss: 0.0780 - acc: 0.9750 - val_loss: 0.7113 - val_acc: 0.7645\n",
      "Epoch 6/10\n",
      "2000/2000 [==============================] - 12s 6ms/step - loss: 0.0587 - acc: 0.9845 - val_loss: 0.8697 - val_acc: 0.7946\n",
      "Epoch 7/10\n",
      "2000/2000 [==============================] - 11s 6ms/step - loss: 0.0346 - acc: 0.9885 - val_loss: 0.6922 - val_acc: 0.7667\n",
      "Epoch 8/10\n",
      "2000/2000 [==============================] - 11s 6ms/step - loss: 0.0232 - acc: 0.9935 - val_loss: 0.7527 - val_acc: 0.7890\n",
      "Epoch 9/10\n",
      "2000/2000 [==============================] - 11s 6ms/step - loss: 0.0127 - acc: 0.9960 - val_loss: 0.7952 - val_acc: 0.7788\n",
      "Epoch 10/10\n",
      "2000/2000 [==============================] - 11s 6ms/step - loss: 0.0106 - acc: 0.9965 - val_loss: 0.9692 - val_acc: 0.7879\n"
     ]
    }
   ],
   "source": [
    "model_ln.compile(optimizer='rmsprop', loss = 'binary_crossentropy', metrics=['acc'])\n",
    "history_ln = model_ln.fit(x_train, y_train, epochs=10, batch_size=32, validation_data=(x_val, y_val))"
   ]
  },
  {
   "cell_type": "code",
   "execution_count": 56,
   "metadata": {},
   "outputs": [
    {
     "data": {
      "image/png": "[encoded data removed]",
      "text/plain": [
       "<Figure size 432x288 with 1 Axes>"
      ]
     },
     "metadata": {},
     "output_type": "display_data"
    }
   ],
   "source": [
    "import matplotlib.pyplot as plt\n",
    "# summarize history for accuracy\n",
    "plt.plot(history.history['loss'])\n",
    "plt.plot(history_ln.history['loss'])\n",
    "plt.title('model loss')\n",
    "plt.ylabel('loss')\n",
    "plt.xlabel('epoch')\n",
    "plt.legend(['history_vanilla loss','history_ln loss'], loc='upper right')\n",
    "plt.show()"
   ]
  },
  {
   "cell_type": "code",
   "execution_count": null,
   "metadata": {},
   "outputs": [],
   "source": []
  }
 ],
 "metadata": {
  "kernelspec": {
   "display_name": "Python 2",
   "language": "python",
   "name": "python2"
  },
  "language_info": {
   "codemirror_mode": {
    "name": "ipython",
    "version": 3
   },
   "file_extension": ".py",
   "mimetype": "text/x-python",
   "name": "python",
   "nbconvert_exporter": "python",
   "pygments_lexer": "ipython3",
   "version": "3.6.5"
  }
 },
 "nbformat": 4,
 "nbformat_minor": 2
}
