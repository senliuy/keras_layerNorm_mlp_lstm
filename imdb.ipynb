{
 "cells": [
  {
   "cell_type": "code",
   "execution_count": 1,
   "metadata": {},
   "outputs": [
    {
     "name": "stderr",
     "output_type": "stream",
     "text": [
      "/usr/local/lib/python3.6/site-packages/h5py/__init__.py:36: FutureWarning: Conversion of the second argument of issubdtype from `float` to `np.floating` is deprecated. In future, it will be treated as `np.float64 == np.dtype(float).type`.\n",
      "  from ._conv import register_converters as _register_converters\n",
      "Using TensorFlow backend.\n"
     ]
    }
   ],
   "source": [
    "import os\n",
    "from keras.datasets import imdb\n",
    "from keras.preprocessing import sequence, text\n",
    "from keras.layers import Flatten, Dense, Embedding, LSTM\n",
    "from keras.models import Sequential\n",
    "import numpy as np"
   ]
  },
  {
   "cell_type": "code",
   "execution_count": 19,
   "metadata": {},
   "outputs": [],
   "source": [
    "max_features = 10000 #作为特征的单词个数\n",
    "max_len = 100 #100个单词后截断文本\n",
    "training_samples = 1000\n",
    "validation_samples = 100"
   ]
  },
  {
   "cell_type": "code",
   "execution_count": 20,
   "metadata": {},
   "outputs": [],
   "source": [
    "imdb_dir = './aclImdb/'\n",
    "train_dir = os.path.join(imdb_dir, 'train')\n",
    "glove_dir = './glove.6B/'"
   ]
  },
  {
   "cell_type": "code",
   "execution_count": 21,
   "metadata": {},
   "outputs": [],
   "source": [
    "labels = []\n",
    "texts = []\n",
    "\n",
    "for label_type in ['neg', 'pos']:\n",
    "    dir_name = os.path.join(train_dir, label_type)\n",
    "    for fname in os.listdir(dir_name):\n",
    "        if fname[-4:] == '.txt':\n",
    "            f = open(os.path.join(dir_name, fname))\n",
    "            texts.append(f.read())\n",
    "            f.close()\n",
    "            if label_type == 'neg':\n",
    "                labels.append(0)\n",
    "            else:\n",
    "                labels.append(1)"
   ]
  },
  {
   "cell_type": "code",
   "execution_count": 22,
   "metadata": {},
   "outputs": [
    {
     "name": "stdout",
     "output_type": "stream",
     "text": [
      "Fond 88582 unique tokens.\n"
     ]
    }
   ],
   "source": [
    "tokenizer = text.Tokenizer(num_words=max_features)\n",
    "tokenizer.fit_on_texts(texts)\n",
    "sequences = tokenizer.texts_to_sequences(texts)\n",
    "\n",
    "word_index = tokenizer.word_index\n",
    "print (\"Fond %s unique tokens.\" % len(word_index))"
   ]
  },
  {
   "cell_type": "code",
   "execution_count": 23,
   "metadata": {},
   "outputs": [
    {
     "name": "stdout",
     "output_type": "stream",
     "text": [
      "Shape of data tensor (25000, 100)\n",
      "Shape of labels tensor (25000,)\n"
     ]
    }
   ],
   "source": [
    "data = sequence.pad_sequences(sequences, maxlen=max_len)\n",
    "labels = np.asarray(labels)\n",
    "\n",
    "print ('Shape of data tensor', data.shape)\n",
    "print ('Shape of labels tensor', labels.shape)"
   ]
  },
  {
   "cell_type": "code",
   "execution_count": 24,
   "metadata": {},
   "outputs": [],
   "source": [
    "indices = np.arange(data.shape[0])\n",
    "np.random.shuffle(indices)\n",
    "data = data[indices]\n",
    "labels = labels[indices]"
   ]
  },
  {
   "cell_type": "code",
   "execution_count": 25,
   "metadata": {},
   "outputs": [],
   "source": [
    "x_train = data[:training_samples]\n",
    "y_train = labels[:training_samples]\n",
    "\n",
    "x_val = data[training_samples:training_samples+validation_samples]\n",
    "y_val = labels[training_samples:training_samples+validation_samples]"
   ]
  },
  {
   "cell_type": "code",
   "execution_count": 26,
   "metadata": {},
   "outputs": [
    {
     "name": "stdout",
     "output_type": "stream",
     "text": [
      "Found 400000 word vectors.\n"
     ]
    }
   ],
   "source": [
    "embedding_index = {}\n",
    "f = open(os.path.join(glove_dir, 'glove.6B.100d.txt'))\n",
    "\n",
    "for line in f:\n",
    "    values = line.split()\n",
    "    word = values[0]\n",
    "    coefs = np.asarray(values[1:], dtype='float32')\n",
    "    embedding_index[word] = coefs\n",
    "    \n",
    "f.close()\n",
    "\n",
    "print ('Found %s word vectors.' % len(embedding_index))"
   ]
  },
  {
   "cell_type": "code",
   "execution_count": 27,
   "metadata": {},
   "outputs": [],
   "source": [
    "embedding_dim = 100\n",
    "\n",
    "embedding_matrix = np.zeros((max_features, embedding_dim))\n",
    "for word, i in word_index.items():\n",
    "    if i < max_features:\n",
    "        embedding_vector = embedding_index.get(word)\n",
    "        if embedding_vector is not None:\n",
    "            embedding_matrix[i] = embedding_vector"
   ]
  },
  {
   "cell_type": "code",
   "execution_count": 35,
   "metadata": {},
   "outputs": [
    {
     "name": "stdout",
     "output_type": "stream",
     "text": [
      "_________________________________________________________________\n",
      "Layer (type)                 Output Shape              Param #   \n",
      "=================================================================\n",
      "embedding_5 (Embedding)      (None, None, 100)         1000000   \n",
      "_________________________________________________________________\n",
      "lstm_3 (LSTM)                (None, 128)               117248    \n",
      "_________________________________________________________________\n",
      "dense_5 (Dense)              (None, 1)                 129       \n",
      "=================================================================\n",
      "Total params: 1,117,377\n",
      "Trainable params: 1,117,377\n",
      "Non-trainable params: 0\n",
      "_________________________________________________________________\n"
     ]
    }
   ],
   "source": [
    "model = Sequential()\n",
    "\n",
    "model.add(Embedding(max_features,100))\n",
    "model.add(LSTM(128))\n",
    "model.add(Dense(1, activation='sigmoid'))\n",
    "model.summary()"
   ]
  },
  {
   "cell_type": "code",
   "execution_count": 36,
   "metadata": {},
   "outputs": [],
   "source": [
    "model.layers[0].set_weights([embedding_matrix])\n",
    "model.layers[0].trainable = False"
   ]
  },
  {
   "cell_type": "code",
   "execution_count": 37,
   "metadata": {},
   "outputs": [
    {
     "name": "stdout",
     "output_type": "stream",
     "text": [
      "Train on 1000 samples, validate on 100 samples\n",
      "Epoch 1/50\n",
      "1000/1000 [==============================] - 3s 3ms/step - loss: 0.6950 - acc: 0.5440 - val_loss: 0.6536 - val_acc: 0.6000\n",
      "Epoch 2/50\n",
      "1000/1000 [==============================] - 2s 2ms/step - loss: 0.6526 - acc: 0.6230 - val_loss: 0.6634 - val_acc: 0.6200\n",
      "Epoch 3/50\n",
      "1000/1000 [==============================] - 2s 2ms/step - loss: 0.6240 - acc: 0.6460 - val_loss: 1.1758 - val_acc: 0.4700\n",
      "Epoch 4/50\n",
      "1000/1000 [==============================] - 3s 3ms/step - loss: 0.6085 - acc: 0.6840 - val_loss: 0.6033 - val_acc: 0.6500\n",
      "Epoch 5/50\n",
      "1000/1000 [==============================] - 3s 3ms/step - loss: 0.5756 - acc: 0.7000 - val_loss: 0.6407 - val_acc: 0.6100\n",
      "Epoch 6/50\n",
      "1000/1000 [==============================] - 2s 2ms/step - loss: 0.5519 - acc: 0.7150 - val_loss: 0.5563 - val_acc: 0.7000\n",
      "Epoch 7/50\n",
      "1000/1000 [==============================] - 3s 3ms/step - loss: 0.5215 - acc: 0.7360 - val_loss: 0.6906 - val_acc: 0.6200\n",
      "Epoch 8/50\n",
      "1000/1000 [==============================] - 3s 3ms/step - loss: 0.5015 - acc: 0.7640 - val_loss: 0.6357 - val_acc: 0.6300\n",
      "Epoch 9/50\n",
      "1000/1000 [==============================] - 3s 3ms/step - loss: 0.4729 - acc: 0.7670 - val_loss: 0.5976 - val_acc: 0.6600\n",
      "Epoch 10/50\n",
      "1000/1000 [==============================] - 3s 3ms/step - loss: 0.4156 - acc: 0.8080 - val_loss: 0.6468 - val_acc: 0.6600\n",
      "Epoch 11/50\n",
      "1000/1000 [==============================] - 3s 3ms/step - loss: 0.3976 - acc: 0.8270 - val_loss: 0.6734 - val_acc: 0.7200\n",
      "Epoch 12/50\n",
      "1000/1000 [==============================] - 3s 3ms/step - loss: 0.3310 - acc: 0.8650 - val_loss: 0.8363 - val_acc: 0.6200\n",
      "Epoch 13/50\n",
      "1000/1000 [==============================] - 3s 3ms/step - loss: 0.3030 - acc: 0.8700 - val_loss: 0.6455 - val_acc: 0.7100\n",
      "Epoch 14/50\n",
      "1000/1000 [==============================] - 3s 3ms/step - loss: 0.2773 - acc: 0.8930 - val_loss: 0.7512 - val_acc: 0.6600\n",
      "Epoch 15/50\n",
      "1000/1000 [==============================] - 3s 3ms/step - loss: 0.2085 - acc: 0.9180 - val_loss: 0.7906 - val_acc: 0.6500\n",
      "Epoch 16/50\n",
      "1000/1000 [==============================] - 3s 3ms/step - loss: 0.1811 - acc: 0.9340 - val_loss: 0.9145 - val_acc: 0.6200\n",
      "Epoch 17/50\n",
      "1000/1000 [==============================] - 3s 3ms/step - loss: 0.1607 - acc: 0.9420 - val_loss: 0.7856 - val_acc: 0.6800\n",
      "Epoch 18/50\n",
      "1000/1000 [==============================] - 3s 3ms/step - loss: 0.1077 - acc: 0.9680 - val_loss: 0.9920 - val_acc: 0.6500\n",
      "Epoch 19/50\n",
      "1000/1000 [==============================] - 3s 3ms/step - loss: 0.1029 - acc: 0.9710 - val_loss: 0.8542 - val_acc: 0.7000\n",
      "Epoch 20/50\n",
      "1000/1000 [==============================] - 3s 3ms/step - loss: 0.0815 - acc: 0.9760 - val_loss: 1.0494 - val_acc: 0.6500\n",
      "Epoch 21/50\n",
      "1000/1000 [==============================] - 3s 3ms/step - loss: 0.0589 - acc: 0.9840 - val_loss: 1.3043 - val_acc: 0.6700\n",
      "Epoch 22/50\n",
      "1000/1000 [==============================] - 3s 3ms/step - loss: 0.0698 - acc: 0.9810 - val_loss: 1.2838 - val_acc: 0.6600\n",
      "Epoch 23/50\n",
      "1000/1000 [==============================] - 3s 3ms/step - loss: 0.0787 - acc: 0.9780 - val_loss: 1.3729 - val_acc: 0.6300\n",
      "Epoch 24/50\n",
      "1000/1000 [==============================] - 3s 3ms/step - loss: 0.0389 - acc: 0.9930 - val_loss: 1.1286 - val_acc: 0.6300\n",
      "Epoch 25/50\n",
      "1000/1000 [==============================] - 3s 3ms/step - loss: 0.0486 - acc: 0.9850 - val_loss: 1.4548 - val_acc: 0.6900\n",
      "Epoch 26/50\n",
      "1000/1000 [==============================] - 3s 3ms/step - loss: 0.0794 - acc: 0.9730 - val_loss: 1.0600 - val_acc: 0.6500\n",
      "Epoch 27/50\n",
      "1000/1000 [==============================] - 3s 3ms/step - loss: 0.0133 - acc: 0.9980 - val_loss: 1.0198 - val_acc: 0.7300\n",
      "Epoch 28/50\n",
      "1000/1000 [==============================] - 3s 3ms/step - loss: 0.0942 - acc: 0.9760 - val_loss: 1.3113 - val_acc: 0.6400\n",
      "Epoch 29/50\n",
      "1000/1000 [==============================] - 3s 3ms/step - loss: 0.0268 - acc: 0.9920 - val_loss: 1.1839 - val_acc: 0.6800\n",
      "Epoch 30/50\n",
      "1000/1000 [==============================] - 3s 3ms/step - loss: 0.0158 - acc: 0.9970 - val_loss: 1.2049 - val_acc: 0.6800\n",
      "Epoch 31/50\n",
      "1000/1000 [==============================] - 3s 3ms/step - loss: 0.0515 - acc: 0.9870 - val_loss: 1.1098 - val_acc: 0.6800\n",
      "Epoch 32/50\n",
      "1000/1000 [==============================] - 3s 3ms/step - loss: 0.0140 - acc: 0.9980 - val_loss: 1.0766 - val_acc: 0.6900\n",
      "Epoch 33/50\n",
      "1000/1000 [==============================] - 3s 3ms/step - loss: 0.0257 - acc: 0.9950 - val_loss: 1.3462 - val_acc: 0.6300\n",
      "Epoch 34/50\n",
      "1000/1000 [==============================] - 3s 3ms/step - loss: 0.0182 - acc: 0.9920 - val_loss: 1.1900 - val_acc: 0.7600\n",
      "Epoch 35/50\n",
      "1000/1000 [==============================] - 3s 3ms/step - loss: 0.0198 - acc: 0.9940 - val_loss: 1.1489 - val_acc: 0.7300\n",
      "Epoch 36/50\n",
      "1000/1000 [==============================] - 3s 3ms/step - loss: 0.0024 - acc: 1.0000 - val_loss: 1.3936 - val_acc: 0.7000\n",
      "Epoch 37/50\n",
      "1000/1000 [==============================] - 3s 3ms/step - loss: 0.0652 - acc: 0.9750 - val_loss: 1.1349 - val_acc: 0.6700\n",
      "Epoch 38/50\n",
      "1000/1000 [==============================] - 3s 3ms/step - loss: 0.0048 - acc: 0.9990 - val_loss: 1.2322 - val_acc: 0.7400\n",
      "Epoch 39/50\n",
      "1000/1000 [==============================] - 3s 3ms/step - loss: 0.0310 - acc: 0.9900 - val_loss: 1.1221 - val_acc: 0.7100\n",
      "Epoch 40/50\n",
      "1000/1000 [==============================] - 3s 3ms/step - loss: 0.0054 - acc: 0.9990 - val_loss: 1.4384 - val_acc: 0.6500\n",
      "Epoch 41/50\n",
      "1000/1000 [==============================] - 3s 3ms/step - loss: 0.0156 - acc: 0.9960 - val_loss: 1.3430 - val_acc: 0.6800\n",
      "Epoch 42/50\n",
      "1000/1000 [==============================] - 3s 3ms/step - loss: 0.0141 - acc: 0.9980 - val_loss: 1.1977 - val_acc: 0.6800\n",
      "Epoch 43/50\n",
      "1000/1000 [==============================] - 3s 3ms/step - loss: 0.0026 - acc: 1.0000 - val_loss: 1.3545 - val_acc: 0.7400\n",
      "Epoch 44/50\n",
      "1000/1000 [==============================] - 3s 3ms/step - loss: 0.0351 - acc: 0.9910 - val_loss: 1.3042 - val_acc: 0.7100\n",
      "Epoch 45/50\n",
      "1000/1000 [==============================] - 3s 3ms/step - loss: 0.0061 - acc: 0.9990 - val_loss: 1.3106 - val_acc: 0.7300\n",
      "Epoch 46/50\n",
      "1000/1000 [==============================] - 3s 3ms/step - loss: 0.0185 - acc: 0.9950 - val_loss: 1.3548 - val_acc: 0.6800\n",
      "Epoch 47/50\n",
      "1000/1000 [==============================] - 3s 3ms/step - loss: 0.0172 - acc: 0.9940 - val_loss: 1.2800 - val_acc: 0.7100\n",
      "Epoch 48/50\n",
      "1000/1000 [==============================] - 3s 3ms/step - loss: 0.0011 - acc: 1.0000 - val_loss: 1.4178 - val_acc: 0.7400\n",
      "Epoch 49/50\n",
      "1000/1000 [==============================] - 3s 3ms/step - loss: 2.3480e-04 - acc: 1.0000 - val_loss: 1.5385 - val_acc: 0.7400\n",
      "Epoch 50/50\n",
      "1000/1000 [==============================] - 3s 3ms/step - loss: 0.0411 - acc: 0.9880 - val_loss: 1.1829 - val_acc: 0.7200\n"
     ]
    }
   ],
   "source": [
    "model.compile(optimizer='rmsprop', loss = 'binary_crossentropy', metrics=['acc'])\n",
    "history = model.fit(x_train, y_train, epochs=50, batch_size=32, validation_data=(x_val, y_val))"
   ]
  },
  {
   "cell_type": "code",
   "execution_count": 38,
   "metadata": {},
   "outputs": [
    {
     "name": "stdout",
     "output_type": "stream",
     "text": [
      "_________________________________________________________________\n",
      "Layer (type)                 Output Shape              Param #   \n",
      "=================================================================\n",
      "embedding_6 (Embedding)      (None, None, 100)         1000000   \n",
      "_________________________________________________________________\n",
      "lstm_ln_3 (LSTM_LN)          (None, 128)               117248    \n",
      "_________________________________________________________________\n",
      "dense_6 (Dense)              (None, 1)                 129       \n",
      "=================================================================\n",
      "Total params: 1,117,377\n",
      "Trainable params: 1,117,377\n",
      "Non-trainable params: 0\n",
      "_________________________________________________________________\n"
     ]
    }
   ],
   "source": [
    "# https://github.com/cleemesser/keras-layer-norm-work\n",
    "from lstm_ln import LSTM_LN\n",
    "model_ln = Sequential()\n",
    "\n",
    "model_ln.add(Embedding(max_features,100))\n",
    "model_ln.add(LSTM_LN(128))\n",
    "model_ln.add(Dense(1, activation='sigmoid'))\n",
    "model_ln.summary()"
   ]
  },
  {
   "cell_type": "code",
   "execution_count": 39,
   "metadata": {},
   "outputs": [],
   "source": [
    "model_ln.layers[0].set_weights([embedding_matrix])\n",
    "model_ln.layers[0].trainable = False"
   ]
  },
  {
   "cell_type": "code",
   "execution_count": 40,
   "metadata": {},
   "outputs": [
    {
     "name": "stdout",
     "output_type": "stream",
     "text": [
      "Train on 1000 samples, validate on 100 samples\n",
      "Epoch 1/50\n",
      "1000/1000 [==============================] - 3s 3ms/step - loss: 0.6853 - acc: 0.5650 - val_loss: 0.6708 - val_acc: 0.6100\n",
      "Epoch 2/50\n",
      "1000/1000 [==============================] - 2s 2ms/step - loss: 0.6513 - acc: 0.6120 - val_loss: 0.7009 - val_acc: 0.5500\n",
      "Epoch 3/50\n",
      "1000/1000 [==============================] - 2s 2ms/step - loss: 0.6414 - acc: 0.6320 - val_loss: 0.6445 - val_acc: 0.6000\n",
      "Epoch 4/50\n",
      "1000/1000 [==============================] - 3s 3ms/step - loss: 0.6099 - acc: 0.6820 - val_loss: 0.6467 - val_acc: 0.6300\n",
      "Epoch 5/50\n",
      "1000/1000 [==============================] - 3s 3ms/step - loss: 0.5900 - acc: 0.6860 - val_loss: 0.6069 - val_acc: 0.6400\n",
      "Epoch 6/50\n",
      "1000/1000 [==============================] - 3s 3ms/step - loss: 0.5420 - acc: 0.7360 - val_loss: 0.6009 - val_acc: 0.6200\n",
      "Epoch 7/50\n",
      "1000/1000 [==============================] - 3s 3ms/step - loss: 0.5509 - acc: 0.7260 - val_loss: 0.6277 - val_acc: 0.6100\n",
      "Epoch 8/50\n",
      "1000/1000 [==============================] - 3s 3ms/step - loss: 0.5245 - acc: 0.7460 - val_loss: 0.5441 - val_acc: 0.7000\n",
      "Epoch 9/50\n",
      "1000/1000 [==============================] - 3s 3ms/step - loss: 0.4430 - acc: 0.7870 - val_loss: 0.5426 - val_acc: 0.7300\n",
      "Epoch 10/50\n",
      "1000/1000 [==============================] - 3s 3ms/step - loss: 0.4038 - acc: 0.8200 - val_loss: 0.5239 - val_acc: 0.7300\n",
      "Epoch 11/50\n",
      "1000/1000 [==============================] - 3s 3ms/step - loss: 0.3594 - acc: 0.8480 - val_loss: 0.5603 - val_acc: 0.7300\n",
      "Epoch 12/50\n",
      "1000/1000 [==============================] - 3s 3ms/step - loss: 0.3735 - acc: 0.8420 - val_loss: 0.6089 - val_acc: 0.7400\n",
      "Epoch 13/50\n",
      "1000/1000 [==============================] - 3s 3ms/step - loss: 0.3462 - acc: 0.8520 - val_loss: 0.5950 - val_acc: 0.7800\n",
      "Epoch 14/50\n",
      "1000/1000 [==============================] - 3s 3ms/step - loss: 0.2432 - acc: 0.9030 - val_loss: 0.6140 - val_acc: 0.7600\n",
      "Epoch 15/50\n",
      "1000/1000 [==============================] - 3s 3ms/step - loss: 0.2016 - acc: 0.9220 - val_loss: 0.6329 - val_acc: 0.7600\n",
      "Epoch 16/50\n",
      "1000/1000 [==============================] - 3s 3ms/step - loss: 0.1656 - acc: 0.9440 - val_loss: 0.6525 - val_acc: 0.7500\n",
      "Epoch 17/50\n",
      "1000/1000 [==============================] - 3s 3ms/step - loss: 0.1571 - acc: 0.9490 - val_loss: 0.6253 - val_acc: 0.7700\n",
      "Epoch 18/50\n",
      "1000/1000 [==============================] - 3s 3ms/step - loss: 0.1087 - acc: 0.9660 - val_loss: 0.8192 - val_acc: 0.7400\n",
      "Epoch 19/50\n",
      "1000/1000 [==============================] - 3s 3ms/step - loss: 0.0661 - acc: 0.9830 - val_loss: 0.8029 - val_acc: 0.7900\n",
      "Epoch 20/50\n",
      "1000/1000 [==============================] - 3s 3ms/step - loss: 0.0436 - acc: 0.9890 - val_loss: 0.8571 - val_acc: 0.7600\n",
      "Epoch 21/50\n",
      "1000/1000 [==============================] - 3s 3ms/step - loss: 0.0437 - acc: 0.9910 - val_loss: 1.0149 - val_acc: 0.6900\n",
      "Epoch 22/50\n",
      "1000/1000 [==============================] - 3s 3ms/step - loss: 0.0923 - acc: 0.9660 - val_loss: 0.7828 - val_acc: 0.7200\n",
      "Epoch 23/50\n",
      "1000/1000 [==============================] - 3s 3ms/step - loss: 0.0400 - acc: 0.9950 - val_loss: 1.0930 - val_acc: 0.7500\n",
      "Epoch 24/50\n",
      "1000/1000 [==============================] - 3s 3ms/step - loss: 0.0303 - acc: 0.9930 - val_loss: 0.9427 - val_acc: 0.7600\n",
      "Epoch 25/50\n",
      "1000/1000 [==============================] - 3s 3ms/step - loss: 0.0089 - acc: 1.0000 - val_loss: 1.0231 - val_acc: 0.8000\n",
      "Epoch 26/50\n",
      "1000/1000 [==============================] - 3s 3ms/step - loss: 0.0034 - acc: 1.0000 - val_loss: 1.0675 - val_acc: 0.7800\n",
      "Epoch 27/50\n",
      "1000/1000 [==============================] - 3s 3ms/step - loss: 0.0022 - acc: 1.0000 - val_loss: 1.0892 - val_acc: 0.7800\n",
      "Epoch 28/50\n",
      "1000/1000 [==============================] - 3s 3ms/step - loss: 0.0016 - acc: 1.0000 - val_loss: 1.1086 - val_acc: 0.8000\n",
      "Epoch 29/50\n",
      "1000/1000 [==============================] - 3s 3ms/step - loss: 0.0011 - acc: 1.0000 - val_loss: 1.1501 - val_acc: 0.8000\n",
      "Epoch 30/50\n",
      "1000/1000 [==============================] - 3s 3ms/step - loss: 9.0344e-04 - acc: 1.0000 - val_loss: 1.1917 - val_acc: 0.8100\n",
      "Epoch 31/50\n",
      "1000/1000 [==============================] - 3s 3ms/step - loss: 7.5508e-04 - acc: 1.0000 - val_loss: 1.2196 - val_acc: 0.8100\n",
      "Epoch 32/50\n",
      "1000/1000 [==============================] - 3s 3ms/step - loss: 6.5683e-04 - acc: 1.0000 - val_loss: 1.2348 - val_acc: 0.8100\n",
      "Epoch 33/50\n",
      "1000/1000 [==============================] - 3s 3ms/step - loss: 5.6970e-04 - acc: 1.0000 - val_loss: 1.2778 - val_acc: 0.8000\n",
      "Epoch 34/50\n",
      "1000/1000 [==============================] - 3s 3ms/step - loss: 5.0180e-04 - acc: 1.0000 - val_loss: 1.2893 - val_acc: 0.8000\n",
      "Epoch 35/50\n",
      "1000/1000 [==============================] - 3s 3ms/step - loss: 4.4674e-04 - acc: 1.0000 - val_loss: 1.3107 - val_acc: 0.8000\n",
      "Epoch 36/50\n",
      "1000/1000 [==============================] - 3s 3ms/step - loss: 4.0122e-04 - acc: 1.0000 - val_loss: 1.3268 - val_acc: 0.8000\n",
      "Epoch 37/50\n",
      "1000/1000 [==============================] - 3s 3ms/step - loss: 3.6563e-04 - acc: 1.0000 - val_loss: 1.3434 - val_acc: 0.8000\n",
      "Epoch 38/50\n",
      "1000/1000 [==============================] - 3s 3ms/step - loss: 3.3368e-04 - acc: 1.0000 - val_loss: 1.3662 - val_acc: 0.8000\n",
      "Epoch 39/50\n",
      "1000/1000 [==============================] - 3s 3ms/step - loss: 3.0482e-04 - acc: 1.0000 - val_loss: 1.3695 - val_acc: 0.8000\n",
      "Epoch 40/50\n",
      "1000/1000 [==============================] - 3s 3ms/step - loss: 2.8098e-04 - acc: 1.0000 - val_loss: 1.3882 - val_acc: 0.8000\n",
      "Epoch 41/50\n",
      "1000/1000 [==============================] - 3s 3ms/step - loss: 2.6087e-04 - acc: 1.0000 - val_loss: 1.3872 - val_acc: 0.8000\n",
      "Epoch 42/50\n",
      "1000/1000 [==============================] - 3s 3ms/step - loss: 2.3998e-04 - acc: 1.0000 - val_loss: 1.4231 - val_acc: 0.8000\n",
      "Epoch 43/50\n",
      "1000/1000 [==============================] - 3s 3ms/step - loss: 2.2278e-04 - acc: 1.0000 - val_loss: 1.4190 - val_acc: 0.8000\n",
      "Epoch 44/50\n",
      "1000/1000 [==============================] - 3s 3ms/step - loss: 2.0758e-04 - acc: 1.0000 - val_loss: 1.4338 - val_acc: 0.8000\n",
      "Epoch 45/50\n",
      "1000/1000 [==============================] - 3s 3ms/step - loss: 1.9561e-04 - acc: 1.0000 - val_loss: 1.4483 - val_acc: 0.8000\n",
      "Epoch 46/50\n",
      "1000/1000 [==============================] - 3s 3ms/step - loss: 1.8177e-04 - acc: 1.0000 - val_loss: 1.4434 - val_acc: 0.8000\n",
      "Epoch 47/50\n",
      "1000/1000 [==============================] - 3s 3ms/step - loss: 1.7079e-04 - acc: 1.0000 - val_loss: 1.4641 - val_acc: 0.8000\n",
      "Epoch 48/50\n",
      "1000/1000 [==============================] - 3s 3ms/step - loss: 1.6030e-04 - acc: 1.0000 - val_loss: 1.4660 - val_acc: 0.8000\n",
      "Epoch 49/50\n",
      "1000/1000 [==============================] - 3s 3ms/step - loss: 1.5087e-04 - acc: 1.0000 - val_loss: 1.4743 - val_acc: 0.8000\n",
      "Epoch 50/50\n",
      "1000/1000 [==============================] - 3s 3ms/step - loss: 1.4265e-04 - acc: 1.0000 - val_loss: 1.4828 - val_acc: 0.8000\n"
     ]
    }
   ],
   "source": [
    "model_ln.compile(optimizer='adam', loss = 'binary_crossentropy', metrics=['acc'])\n",
    "history_ln = model_ln.fit(x_train, y_train, epochs=50, batch_size=32, validation_data=(x_val, y_val))"
   ]
  },
  {
   "cell_type": "code",
   "execution_count": 41,
   "metadata": {},
   "outputs": [
    {
     "data": {
      "image/png": "[encoded data removed]",
      "text/plain": [
       "<Figure size 432x288 with 1 Axes>"
      ]
     },
     "metadata": {},
     "output_type": "display_data"
    }
   ],
   "source": [
    "import matplotlib.pyplot as plt\n",
    "# summarize history for accuracy\n",
    "plt.plot(history.history['loss'])\n",
    "plt.plot(history_ln.history['loss'])\n",
    "plt.title('model loss')\n",
    "plt.ylabel('loss')\n",
    "plt.xlabel('epoch')\n",
    "plt.legend(['history_vanilla loss','history_ln loss'], loc='upper right')\n",
    "plt.show()"
   ]
  },
  {
   "cell_type": "code",
   "execution_count": 44,
   "metadata": {},
   "outputs": [
    {
     "data": {
      "image/png": "[encoded data removed]",
      "text/plain": [
       "<Figure size 432x288 with 1 Axes>"
      ]
     },
     "metadata": {},
     "output_type": "display_data"
    }
   ],
   "source": [
    "plt.plot(history.history['acc'])\n",
    "plt.plot(history_ln.history['acc'])\n",
    "plt.title('model acc')\n",
    "plt.ylabel('loss')\n",
    "plt.xlabel('epoch')\n",
    "plt.legend(['history_vanilla acc','history_ln acc'], loc='lower right')\n",
    "plt.show()"
   ]
  },
  {
   "cell_type": "code",
   "execution_count": null,
   "metadata": {},
   "outputs": [],
   "source": []
  }
 ],
 "metadata": {
  "kernelspec": {
   "display_name": "Python 2",
   "language": "python",
   "name": "python2"
  },
  "language_info": {
   "codemirror_mode": {
    "name": "ipython",
    "version": 3
   },
   "file_extension": ".py",
   "mimetype": "text/x-python",
   "name": "python",
   "nbconvert_exporter": "python",
   "pygments_lexer": "ipython3",
   "version": "3.6.5"
  }
 },
 "nbformat": 4,
 "nbformat_minor": 2
}
