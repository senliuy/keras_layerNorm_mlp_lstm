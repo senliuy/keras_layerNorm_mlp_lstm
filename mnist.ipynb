{
 "cells": [
  {
   "cell_type": "code",
   "execution_count": 4,
   "metadata": {},
   "outputs": [],
   "source": [
    "from keras.datasets import mnist\n",
    "from keras.layers import Flatten, Conv2D, MaxPool2D, Dense, Input,AveragePooling2D,Reshape,Activation,BatchNormalization\n",
    "from keras.models import Sequential\n",
    "from keras.optimizers import SGD\n",
    "from keras.utils import plot_model, to_categorical\n",
    "from keras_layer_normalization import LayerNormalization\n",
    "import matplotlib.pyplot as plt"
   ]
  },
  {
   "cell_type": "code",
   "execution_count": 5,
   "metadata": {},
   "outputs": [],
   "source": [
    "(x_train, y_train), (x_test, y_test) = mnist.load_data()\n",
    "#数据变成TensorFow为Backend的形式\n",
    "x_train=x_train.reshape(60000,28,28,1)\n",
    "x_test=x_test.reshape(10000,28,28,1)\n",
    "#把标签变成one-hot编码的形式\n",
    "y_train=to_categorical(y_train,num_classes=10)\n",
    "y_test=to_categorical(y_test,num_classes=10)"
   ]
  },
  {
   "cell_type": "code",
   "execution_count": 51,
   "metadata": {},
   "outputs": [],
   "source": [
    "# 构建vanilla LeNet-5网络\n",
    "model_vanilla = Sequential()\n",
    "model_vanilla.add(Conv2D(input_shape = (28,28,1), filters=6, kernel_size=(5,5), padding='valid', activation='tanh'))\n",
    "model_vanilla.add(MaxPool2D(pool_size=(2,2), strides=2))\n",
    "model_vanilla.add(Conv2D(input_shape=(14,14,6), filters=16, kernel_size=(5,5), padding='valid', activation='tanh'))\n",
    "model_vanilla.add(MaxPool2D(pool_size=(2,2), strides=2))\n",
    "model_vanilla.add(Flatten())\n",
    "model_vanilla.add(Dense(120, activation='tanh'))\n",
    "model_vanilla.add(Dense(84, activation='tanh'))\n",
    "model_vanilla.add(Dense(10, activation='softmax'))"
   ]
  },
  {
   "cell_type": "code",
   "execution_count": 52,
   "metadata": {},
   "outputs": [],
   "source": [
    "# 构建LN LeNet-5网络\n",
    "model_ln = Sequential()\n",
    "model_ln.add(Conv2D(input_shape = (28,28,1), filters=6, kernel_size=(5,5), padding='valid', activation='tanh'))\n",
    "model_ln.add(MaxPool2D(pool_size=(2,2), strides=2))\n",
    "model_ln.add(Conv2D(input_shape=(14,14,6), filters=16, kernel_size=(5,5), padding='valid', activation='tanh'))\n",
    "model_ln.add(MaxPool2D(pool_size=(2,2), strides=2))\n",
    "model_ln.add(Flatten())\n",
    "model_ln.add(Dense(120, activation='tanh'))\n",
    "model_ln.add(LayerNormalization())\n",
    "model_ln.add(Dense(84, activation='tanh'))\n",
    "model_ln.add(LayerNormalization())\n",
    "model_ln.add(Dense(10, activation='softmax'))"
   ]
  },
  {
   "cell_type": "code",
   "execution_count": 53,
   "metadata": {},
   "outputs": [],
   "source": [
    "# 构建BN LeNet-5网络\n",
    "model_bn = Sequential()\n",
    "model_bn.add(Conv2D(input_shape = (28,28,1), filters=6, kernel_size=(5,5), padding='valid', activation='tanh'))\n",
    "model_bn.add(MaxPool2D(pool_size=(2,2), strides=2))\n",
    "model_bn.add(Conv2D(input_shape=(14,14,6), filters=16, kernel_size=(5,5), padding='valid', activation='tanh'))\n",
    "model_bn.add(MaxPool2D(pool_size=(2,2), strides=2))\n",
    "model_bn.add(Flatten())\n",
    "model_bn.add(Dense(120, activation='tanh'))\n",
    "model_bn.add(BatchNormalization())\n",
    "model_bn.add(Dense(84, activation='tanh'))\n",
    "model_bn.add(BatchNormalization())\n",
    "model_bn.add(Dense(10, activation='softmax'))"
   ]
  },
  {
   "cell_type": "code",
   "execution_count": 11,
   "metadata": {},
   "outputs": [
    {
     "name": "stdout",
     "output_type": "stream",
     "text": [
      "Epoch 1/10\n",
      "60000/60000 [==============================] - 14s 226us/step - loss: 0.8379 - acc: 0.7941\n",
      "Epoch 2/10\n",
      "60000/60000 [==============================] - 14s 225us/step - loss: 0.3414 - acc: 0.9153\n",
      "Epoch 3/10\n",
      "60000/60000 [==============================] - 14s 229us/step - loss: 0.2371 - acc: 0.9393\n",
      "Epoch 4/10\n",
      "60000/60000 [==============================] - 14s 237us/step - loss: 0.1889 - acc: 0.9495\n",
      "Epoch 5/10\n",
      "60000/60000 [==============================] - 15s 242us/step - loss: 0.1598 - acc: 0.9564\n",
      "Epoch 6/10\n",
      "60000/60000 [==============================] - 13s 224us/step - loss: 0.1414 - acc: 0.9607\n",
      "Epoch 7/10\n",
      "60000/60000 [==============================] - 12s 206us/step - loss: 0.1279 - acc: 0.9645\n",
      "Epoch 8/10\n",
      "60000/60000 [==============================] - 13s 214us/step - loss: 0.1174 - acc: 0.9667\n",
      "Epoch 9/10\n",
      "60000/60000 [==============================] - 12s 203us/step - loss: 0.1098 - acc: 0.9685\n",
      "Epoch 10/10\n",
      "60000/60000 [==============================] - 12s 205us/step - loss: 0.1019 - acc: 0.9708\n"
     ]
    }
   ],
   "source": [
    "model_vanilla.compile(loss='categorical_crossentropy', optimizer=SGD(lr=0.01), metrics=['accuracy'])\n",
    "history_vanilla = model_vanilla.fit(x_train, y_train, batch_size=128, epochs=10)"
   ]
  },
  {
   "cell_type": "code",
   "execution_count": 27,
   "metadata": {},
   "outputs": [
    {
     "name": "stdout",
     "output_type": "stream",
     "text": [
      "Epoch 1/10\n",
      "60000/60000 [==============================] - 16s 274us/step - loss: 0.4860 - acc: 0.8567\n",
      "Epoch 2/10\n",
      "60000/60000 [==============================] - 16s 266us/step - loss: 0.2057 - acc: 0.9409\n",
      "Epoch 3/10\n",
      "60000/60000 [==============================] - 15s 247us/step - loss: 0.1583 - acc: 0.9534\n",
      "Epoch 4/10\n",
      "60000/60000 [==============================] - 17s 276us/step - loss: 0.1351 - acc: 0.9609\n",
      "Epoch 5/10\n",
      "60000/60000 [==============================] - 20s 334us/step - loss: 0.1210 - acc: 0.9637\n",
      "Epoch 6/10\n",
      "60000/60000 [==============================] - 20s 334us/step - loss: 0.1067 - acc: 0.9679\n",
      "Epoch 7/10\n",
      "60000/60000 [==============================] - 15s 243us/step - loss: 0.0984 - acc: 0.9705\n",
      "Epoch 8/10\n",
      "60000/60000 [==============================] - 14s 230us/step - loss: 0.0915 - acc: 0.9728\n",
      "Epoch 9/10\n",
      "60000/60000 [==============================] - 15s 243us/step - loss: 0.0863 - acc: 0.9741\n",
      "Epoch 10/10\n",
      "60000/60000 [==============================] - 14s 235us/step - loss: 0.0816 - acc: 0.9761\n"
     ]
    }
   ],
   "source": [
    "model_bn.compile(loss='categorical_crossentropy', optimizer=SGD(lr=0.01), metrics=['accuracy'])\n",
    "history_bn = model_bn.fit(x_train, y_train, batch_size=128, epochs=10)"
   ]
  },
  {
   "cell_type": "code",
   "execution_count": 29,
   "metadata": {},
   "outputs": [
    {
     "name": "stdout",
     "output_type": "stream",
     "text": [
      "Epoch 1/10\n",
      "60000/60000 [==============================] - 15s 255us/step - loss: 0.5927 - acc: 0.8251\n",
      "Epoch 2/10\n",
      "60000/60000 [==============================] - 14s 235us/step - loss: 0.2262 - acc: 0.9329\n",
      "Epoch 3/10\n",
      "60000/60000 [==============================] - 14s 233us/step - loss: 0.1765 - acc: 0.9468\n",
      "Epoch 4/10\n",
      "60000/60000 [==============================] - 14s 236us/step - loss: 0.1501 - acc: 0.9544\n",
      "Epoch 5/10\n",
      "60000/60000 [==============================] - 14s 236us/step - loss: 0.1365 - acc: 0.9580\n",
      "Epoch 6/10\n",
      "60000/60000 [==============================] - 16s 259us/step - loss: 0.1227 - acc: 0.9629\n",
      "Epoch 7/10\n",
      "60000/60000 [==============================] - 17s 280us/step - loss: 0.1147 - acc: 0.9647\n",
      "Epoch 8/10\n",
      "60000/60000 [==============================] - 16s 267us/step - loss: 0.1082 - acc: 0.9669\n",
      "Epoch 9/10\n",
      "60000/60000 [==============================] - 16s 265us/step - loss: 0.0999 - acc: 0.9695\n",
      "Epoch 10/10\n",
      "60000/60000 [==============================] - 16s 269us/step - loss: 0.0970 - acc: 0.9699\n"
     ]
    }
   ],
   "source": [
    "model_ln.compile(loss='categorical_crossentropy', optimizer=SGD(lr=0.01), metrics=['accuracy'])\n",
    "history_ln = model_ln.fit(x_train, y_train, batch_size=128, epochs=10)"
   ]
  },
  {
   "cell_type": "code",
   "execution_count": 32,
   "metadata": {},
   "outputs": [
    {
     "data": {
      "image/png": "[encoded data removed]",
      "text/plain": [
       "<Figure size 432x288 with 1 Axes>"
      ]
     },
     "metadata": {},
     "output_type": "display_data"
    }
   ],
   "source": [
    "# summarize history for accuracy\n",
    "plt.plot(history_vanilla.history['loss'])\n",
    "plt.plot(history_ln.history['loss'])\n",
    "plt.plot(history_bn.history['loss'])\n",
    "plt.title('model loss')\n",
    "plt.ylabel('loss')\n",
    "plt.xlabel('epoch')\n",
    "plt.legend(['history_vanilla loss','history_ln loss','history_bn loss'], loc='upper right')\n",
    "plt.show()"
   ]
  },
  {
   "cell_type": "code",
   "execution_count": 55,
   "metadata": {},
   "outputs": [
    {
     "name": "stdout",
     "output_type": "stream",
     "text": [
      "Epoch 1/5\n",
      "60000/60000 [==============================] - 43s 713us/step - loss: 0.2366 - acc: 0.9330\n",
      "Epoch 2/5\n",
      "60000/60000 [==============================] - 40s 666us/step - loss: 0.0973 - acc: 0.9703\n",
      "Epoch 3/5\n",
      "60000/60000 [==============================] - 40s 675us/step - loss: 0.0803 - acc: 0.9747\n",
      "Epoch 4/5\n",
      "60000/60000 [==============================] - 41s 688us/step - loss: 0.0608 - acc: 0.9817\n",
      "Epoch 5/5\n",
      "60000/60000 [==============================] - 41s 677us/step - loss: 0.0540 - acc: 0.9836\n"
     ]
    }
   ],
   "source": [
    "model_vanilla.compile(loss='categorical_crossentropy', optimizer=SGD(lr=0.01), metrics=['accuracy'])\n",
    "history_vanilla = model_vanilla.fit(x_train, y_train, batch_size=8, epochs=5)"
   ]
  },
  {
   "cell_type": "code",
   "execution_count": 54,
   "metadata": {},
   "outputs": [
    {
     "name": "stdout",
     "output_type": "stream",
     "text": [
      "Epoch 1/5\n",
      "60000/60000 [==============================] - 49s 808us/step - loss: 0.3450 - acc: 0.8919\n",
      "Epoch 2/5\n",
      "60000/60000 [==============================] - 47s 780us/step - loss: 0.2136 - acc: 0.9349\n",
      "Epoch 3/5\n",
      "60000/60000 [==============================] - 47s 780us/step - loss: 0.1752 - acc: 0.9469\n",
      "Epoch 4/5\n",
      "60000/60000 [==============================] - 46s 772us/step - loss: 0.1420 - acc: 0.9570\n",
      "Epoch 5/5\n",
      "60000/60000 [==============================] - 46s 764us/step - loss: 0.1222 - acc: 0.9631\n"
     ]
    }
   ],
   "source": [
    "model_bn.compile(loss='categorical_crossentropy', optimizer=SGD(lr=0.01), metrics=['accuracy'])\n",
    "history_bn = model_bn.fit(x_train, y_train, batch_size=8, epochs=5)"
   ]
  },
  {
   "cell_type": "code",
   "execution_count": 56,
   "metadata": {},
   "outputs": [
    {
     "name": "stdout",
     "output_type": "stream",
     "text": [
      "Epoch 1/5\n",
      "60000/60000 [==============================] - 47s 784us/step - loss: 0.2278 - acc: 0.9280\n",
      "Epoch 2/5\n",
      "60000/60000 [==============================] - 45s 758us/step - loss: 0.0959 - acc: 0.9702\n",
      "Epoch 3/5\n",
      "60000/60000 [==============================] - 47s 780us/step - loss: 0.0768 - acc: 0.9763\n",
      "Epoch 4/5\n",
      "60000/60000 [==============================] - 45s 747us/step - loss: 0.0592 - acc: 0.9817\n",
      "Epoch 5/5\n",
      "60000/60000 [==============================] - 47s 782us/step - loss: 0.0491 - acc: 0.9848\n"
     ]
    }
   ],
   "source": [
    "model_ln.compile(loss='categorical_crossentropy', optimizer=SGD(lr=0.01), metrics=['accuracy'])\n",
    "history_ln = model_ln.fit(x_train, y_train, batch_size=8, epochs=5)"
   ]
  },
  {
   "cell_type": "code",
   "execution_count": 57,
   "metadata": {},
   "outputs": [
    {
     "data": {
      "image/png": "[encoded data removed]",
      "text/plain": [
       "<Figure size 432x288 with 1 Axes>"
      ]
     },
     "metadata": {},
     "output_type": "display_data"
    }
   ],
   "source": [
    "# summarize history for accuracy\n",
    "plt.plot(history_vanilla.history['loss'])\n",
    "plt.plot(history_ln.history['loss'])\n",
    "plt.plot(history_bn.history['loss'])\n",
    "plt.title('model loss')\n",
    "plt.ylabel('loss')\n",
    "plt.xlabel('epoch')\n",
    "plt.legend(['history_vanilla loss','history_ln loss','history_bn loss'], loc='upper right')\n",
    "plt.show()"
   ]
  },
  {
   "cell_type": "code",
   "execution_count": null,
   "metadata": {},
   "outputs": [],
   "source": []
  }
 ],
 "metadata": {
  "kernelspec": {
   "display_name": "Python 2",
   "language": "python",
   "name": "python2"
  },
  "language_info": {
   "codemirror_mode": {
    "name": "ipython",
    "version": 3
   },
   "file_extension": ".py",
   "mimetype": "text/x-python",
   "name": "python",
   "nbconvert_exporter": "python",
   "pygments_lexer": "ipython3",
   "version": "3.6.5"
  }
 },
 "nbformat": 4,
 "nbformat_minor": 2
}
